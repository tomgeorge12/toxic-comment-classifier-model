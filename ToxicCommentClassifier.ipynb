{
 "cells": [
  {
   "cell_type": "markdown",
   "id": "cd711048",
   "metadata": {},
   "source": [
    "# Toxic Comment Classification using Artificial Neural Network (ANN)\n",
    "\n",
    "This notebook implements a deep learning model to classify toxic comments across multiple categories:\n",
    "- **toxic**: General toxicity\n",
    "- **severe_toxic**: Severely toxic comments  \n",
    "- **obscene**: Obscene language\n",
    "- **threat**: Threatening comments\n",
    "- **insult**: Insulting comments\n",
    "- **identity_hate**: Identity-based hate speech\n"
   ]
  },
  {
   "cell_type": "code",
   "execution_count": 39,
   "id": "449192f6",
   "metadata": {},
   "outputs": [],
   "source": [
    "# Import libraries\n",
    "import pandas as pd\n",
    "import numpy as np\n",
    "import matplotlib.pyplot as plt\n",
    "import re\n",
    "from sklearn.model_selection import train_test_split\n",
    "from sklearn.feature_extraction.text import CountVectorizer, TfidfVectorizer\n",
    "from sklearn.preprocessing import StandardScaler\n",
    "from sklearn.metrics import classification_report, confusion_matrix, accuracy_score\n",
    "import tensorflow as tf\n",
    "from tensorflow.keras.models import Sequential\n",
    "from tensorflow.keras.layers import Dense, Dropout\n",
    "from tensorflow.keras.optimizers import Adam\n",
    "from tensorflow.keras.callbacks import EarlyStopping\n"
   ]
  },
  {
   "cell_type": "markdown",
   "id": "930c4c9a",
   "metadata": {},
   "source": [
    "## 1. Data Loading and Exploration\n",
    "\n",
    "Let's load the dataset and explore its structure to understand the distribution of toxic comments across different categories."
   ]
  },
  {
   "cell_type": "code",
   "execution_count": 40,
   "id": "c00ddbbb",
   "metadata": {},
   "outputs": [],
   "source": [
    "# constants\n",
    "TRAIN_DATA_PATH = './dataset/train.csv'\n",
    "TEST_DATA_PATH = './dataset/test.csv'\n",
    "batch_size = 32\n",
    "epochs = 20\n"
   ]
  },
  {
   "cell_type": "code",
   "execution_count": 41,
   "id": "016ba611",
   "metadata": {},
   "outputs": [
    {
     "name": "stdout",
     "output_type": "stream",
     "text": [
      "Train dataset shape: (159571, 8)\n",
      "\n",
      "Train Dataset Info:\n",
      "<class 'pandas.core.frame.DataFrame'>\n",
      "RangeIndex: 159571 entries, 0 to 159570\n",
      "Data columns (total 8 columns):\n",
      " #   Column         Non-Null Count   Dtype \n",
      "---  ------         --------------   ----- \n",
      " 0   id             159571 non-null  object\n",
      " 1   comment_text   159571 non-null  object\n",
      " 2   toxic          159571 non-null  int64 \n",
      " 3   severe_toxic   159571 non-null  int64 \n",
      " 4   obscene        159571 non-null  int64 \n",
      " 5   threat         159571 non-null  int64 \n",
      " 6   insult         159571 non-null  int64 \n",
      " 7   identity_hate  159571 non-null  int64 \n",
      "dtypes: int64(6), object(2)\n",
      "memory usage: 9.7+ MB\n",
      "\n",
      "Train Dataset Head:\n"
     ]
    },
    {
     "data": {
      "text/html": [
       "<div>\n",
       "<style scoped>\n",
       "    .dataframe tbody tr th:only-of-type {\n",
       "        vertical-align: middle;\n",
       "    }\n",
       "\n",
       "    .dataframe tbody tr th {\n",
       "        vertical-align: top;\n",
       "    }\n",
       "\n",
       "    .dataframe thead th {\n",
       "        text-align: right;\n",
       "    }\n",
       "</style>\n",
       "<table border=\"1\" class=\"dataframe\">\n",
       "  <thead>\n",
       "    <tr style=\"text-align: right;\">\n",
       "      <th></th>\n",
       "      <th>id</th>\n",
       "      <th>comment_text</th>\n",
       "      <th>toxic</th>\n",
       "      <th>severe_toxic</th>\n",
       "      <th>obscene</th>\n",
       "      <th>threat</th>\n",
       "      <th>insult</th>\n",
       "      <th>identity_hate</th>\n",
       "    </tr>\n",
       "  </thead>\n",
       "  <tbody>\n",
       "    <tr>\n",
       "      <th>0</th>\n",
       "      <td>0000997932d777bf</td>\n",
       "      <td>Explanation\\nWhy the edits made under my usern...</td>\n",
       "      <td>0</td>\n",
       "      <td>0</td>\n",
       "      <td>0</td>\n",
       "      <td>0</td>\n",
       "      <td>0</td>\n",
       "      <td>0</td>\n",
       "    </tr>\n",
       "    <tr>\n",
       "      <th>1</th>\n",
       "      <td>000103f0d9cfb60f</td>\n",
       "      <td>D'aww! He matches this background colour I'm s...</td>\n",
       "      <td>0</td>\n",
       "      <td>0</td>\n",
       "      <td>0</td>\n",
       "      <td>0</td>\n",
       "      <td>0</td>\n",
       "      <td>0</td>\n",
       "    </tr>\n",
       "    <tr>\n",
       "      <th>2</th>\n",
       "      <td>000113f07ec002fd</td>\n",
       "      <td>Hey man, I'm really not trying to edit war. It...</td>\n",
       "      <td>0</td>\n",
       "      <td>0</td>\n",
       "      <td>0</td>\n",
       "      <td>0</td>\n",
       "      <td>0</td>\n",
       "      <td>0</td>\n",
       "    </tr>\n",
       "    <tr>\n",
       "      <th>3</th>\n",
       "      <td>0001b41b1c6bb37e</td>\n",
       "      <td>\"\\nMore\\nI can't make any real suggestions on ...</td>\n",
       "      <td>0</td>\n",
       "      <td>0</td>\n",
       "      <td>0</td>\n",
       "      <td>0</td>\n",
       "      <td>0</td>\n",
       "      <td>0</td>\n",
       "    </tr>\n",
       "    <tr>\n",
       "      <th>4</th>\n",
       "      <td>0001d958c54c6e35</td>\n",
       "      <td>You, sir, are my hero. Any chance you remember...</td>\n",
       "      <td>0</td>\n",
       "      <td>0</td>\n",
       "      <td>0</td>\n",
       "      <td>0</td>\n",
       "      <td>0</td>\n",
       "      <td>0</td>\n",
       "    </tr>\n",
       "  </tbody>\n",
       "</table>\n",
       "</div>"
      ],
      "text/plain": [
       "                 id                                       comment_text  toxic  \\\n",
       "0  0000997932d777bf  Explanation\\nWhy the edits made under my usern...      0   \n",
       "1  000103f0d9cfb60f  D'aww! He matches this background colour I'm s...      0   \n",
       "2  000113f07ec002fd  Hey man, I'm really not trying to edit war. It...      0   \n",
       "3  0001b41b1c6bb37e  \"\\nMore\\nI can't make any real suggestions on ...      0   \n",
       "4  0001d958c54c6e35  You, sir, are my hero. Any chance you remember...      0   \n",
       "\n",
       "   severe_toxic  obscene  threat  insult  identity_hate  \n",
       "0             0        0       0       0              0  \n",
       "1             0        0       0       0              0  \n",
       "2             0        0       0       0              0  \n",
       "3             0        0       0       0              0  \n",
       "4             0        0       0       0              0  "
      ]
     },
     "execution_count": 41,
     "metadata": {},
     "output_type": "execute_result"
    }
   ],
   "source": [
    "# Load the training dataset\n",
    "train_df = pd.read_csv(TRAIN_DATA_PATH)\n",
    "test_df = pd.read_csv(TEST_DATA_PATH)\n",
    "\n",
    "# Display basic information\n",
    "print(f\"Train dataset shape: {train_df.shape}\")\n",
    "\n",
    "print(\"\\nTrain Dataset Info:\")\n",
    "train_df.info()\n",
    "\n",
    "print(\"\\nTrain Dataset Head:\")\n",
    "train_df.head()\n"
   ]
  },
  {
   "cell_type": "code",
   "execution_count": 42,
   "id": "08b663a5",
   "metadata": {},
   "outputs": [
    {
     "name": "stdout",
     "output_type": "stream",
     "text": [
      "Test dataset shape: (153164, 2)\n",
      "\n",
      "Test Dataset Info:\n",
      "<class 'pandas.core.frame.DataFrame'>\n",
      "RangeIndex: 153164 entries, 0 to 153163\n",
      "Data columns (total 2 columns):\n",
      " #   Column        Non-Null Count   Dtype \n",
      "---  ------        --------------   ----- \n",
      " 0   id            153164 non-null  object\n",
      " 1   comment_text  153164 non-null  object\n",
      "dtypes: object(2)\n",
      "memory usage: 2.3+ MB\n",
      "\n",
      "Test head:\n"
     ]
    },
    {
     "data": {
      "text/html": [
       "<div>\n",
       "<style scoped>\n",
       "    .dataframe tbody tr th:only-of-type {\n",
       "        vertical-align: middle;\n",
       "    }\n",
       "\n",
       "    .dataframe tbody tr th {\n",
       "        vertical-align: top;\n",
       "    }\n",
       "\n",
       "    .dataframe thead th {\n",
       "        text-align: right;\n",
       "    }\n",
       "</style>\n",
       "<table border=\"1\" class=\"dataframe\">\n",
       "  <thead>\n",
       "    <tr style=\"text-align: right;\">\n",
       "      <th></th>\n",
       "      <th>id</th>\n",
       "      <th>comment_text</th>\n",
       "    </tr>\n",
       "  </thead>\n",
       "  <tbody>\n",
       "    <tr>\n",
       "      <th>0</th>\n",
       "      <td>00001cee341fdb12</td>\n",
       "      <td>Yo bitch Ja Rule is more succesful then you'll...</td>\n",
       "    </tr>\n",
       "    <tr>\n",
       "      <th>1</th>\n",
       "      <td>0000247867823ef7</td>\n",
       "      <td>== From RfC == \\n\\n The title is fine as it is...</td>\n",
       "    </tr>\n",
       "    <tr>\n",
       "      <th>2</th>\n",
       "      <td>00013b17ad220c46</td>\n",
       "      <td>\" \\n\\n == Sources == \\n\\n * Zawe Ashton on Lap...</td>\n",
       "    </tr>\n",
       "    <tr>\n",
       "      <th>3</th>\n",
       "      <td>00017563c3f7919a</td>\n",
       "      <td>:If you have a look back at the source, the in...</td>\n",
       "    </tr>\n",
       "    <tr>\n",
       "      <th>4</th>\n",
       "      <td>00017695ad8997eb</td>\n",
       "      <td>I don't anonymously edit articles at all.</td>\n",
       "    </tr>\n",
       "  </tbody>\n",
       "</table>\n",
       "</div>"
      ],
      "text/plain": [
       "                 id                                       comment_text\n",
       "0  00001cee341fdb12  Yo bitch Ja Rule is more succesful then you'll...\n",
       "1  0000247867823ef7  == From RfC == \\n\\n The title is fine as it is...\n",
       "2  00013b17ad220c46  \" \\n\\n == Sources == \\n\\n * Zawe Ashton on Lap...\n",
       "3  00017563c3f7919a  :If you have a look back at the source, the in...\n",
       "4  00017695ad8997eb          I don't anonymously edit articles at all."
      ]
     },
     "execution_count": 42,
     "metadata": {},
     "output_type": "execute_result"
    }
   ],
   "source": [
    "# Display basic information\n",
    "print(f\"Test dataset shape: {test_df.shape}\")\n",
    "\n",
    "print(\"\\nTest Dataset Info:\")\n",
    "test_df.info()\n",
    "\n",
    "print(\"\\nTest head:\")\n",
    "test_df.head()\n"
   ]
  },
  {
   "cell_type": "code",
   "execution_count": 43,
   "id": "68158e41",
   "metadata": {},
   "outputs": [
    {
     "data": {
      "image/png": "[encoded data removed]",
      "text/plain": [
       "<Figure size 1400x800 with 2 Axes>"
      ]
     },
     "metadata": {},
     "output_type": "display_data"
    }
   ],
   "source": [
    "# Analyze label distribution\n",
    "toxic_labels = ['toxic', 'severe_toxic', 'obscene', 'threat', 'insult', 'identity_hate']\n",
    "\n",
    "# # Check for any toxic comment\n",
    "train_df['any_toxic'] = train_df[toxic_labels].max(axis=1)\n",
    "any_toxic_count = train_df['any_toxic'].sum()\n",
    "clean_count = len(train_df) - any_toxic_count\n",
    "\n",
    "\n",
    "plt.figure(figsize=(14, 8))\n",
    "\n",
    "# Plot 1: Individual label distribution\n",
    "plt.subplot(2, 2, 1)\n",
    "\n",
    "label_counts = [train_df[label].sum() for label in toxic_labels]\n",
    "\n",
    "bars = plt.bar(toxic_labels, label_counts, color='orange', edgecolor='navy', alpha=0.7)\n",
    "\n",
    "plt.title('Distribution of Toxic Labels', fontsize=14, fontweight='bold')\n",
    "plt.xlabel('Toxicity Labels')\n",
    "plt.ylabel('Number of Comments')\n",
    "plt.xticks(rotation=45)\n",
    "\n",
    "for bar in bars:\n",
    "    height = bar.get_height()\n",
    "    plt.text(bar.get_x() + bar.get_width()/2., height + 100, f'{int(height)}', \n",
    "             ha='center', va='bottom', fontweight='bold')\n",
    "\n",
    "# Plot 2: Clean vs Toxic overall\n",
    "plt.subplot(2, 2, 2)\n",
    "\n",
    "overall_counts = [clean_count, any_toxic_count]\n",
    "overall_labels = ['Clean', 'Toxic']\n",
    "colors = ['lightgreen', 'red']\n",
    "\n",
    "bars = plt.bar(overall_labels, overall_counts, color=colors, edgecolor='black', alpha=0.7)\n",
    "plt.title('Overall Distribution: Clean vs Toxic', fontsize=14, fontweight='bold')\n",
    "plt.ylabel('Number of Comments')\n",
    "for bar in bars:\n",
    "    height = bar.get_height()\n",
    "    plt.text(bar.get_x() + bar.get_width()/2., height + 1000, f'{int(height)}', \n",
    "             ha='center', va='bottom', fontweight='bold')\n",
    "\n",
    "plt.tight_layout()\n",
    "plt.show()"
   ]
  },
  {
   "cell_type": "markdown",
   "id": "44007f25",
   "metadata": {},
   "source": [
    "## 2. Text Preprocessing\n",
    "\n",
    "We'll implement basic text preprocessing:\n",
    "- Removing special characters and numbers\n",
    "- Basic text cleaning"
   ]
  },
  {
   "cell_type": "code",
   "execution_count": 44,
   "id": "efece625",
   "metadata": {},
   "outputs": [
    {
     "name": "stdout",
     "output_type": "stream",
     "text": [
      "Starting simple text preprocessing...\n",
      "Applying basic text cleaning...\n",
      "Empty comments after preprocessing: 7\n",
      "Final dataset shape: (159571, 10)\n",
      "\n",
      "Preprocessing Examples:\n",
      "================================================================================\n",
      "Example 1:\n",
      "Original:  Explanation\n",
      "Why the edits made under my username Hardcore Metallica Fan were reverted? They weren't vandalisms, just closure on some GAs after I voted\n",
      "Cleaned:   explanation why the edits made under my username hardcore metallica fan were reverted they werent vandalisms just closure on some gas after i voted at\n",
      "--------------------------------------------------------------------------------\n",
      "Example 2:\n",
      "Original:  D'aww! He matches this background colour I'm seemingly stuck with. Thanks.  (talk) 21:51, January 11, 2016 (UTC)\n",
      "Cleaned:   daww he matches this background colour im seemingly stuck with thanks talk january utc\n",
      "--------------------------------------------------------------------------------\n"
     ]
    }
   ],
   "source": [
    "# # Simple text preprocessing function using only basic Python\n",
    "def refine_text(text):\n",
    "    if pd.isna(text):\n",
    "        return \"\"\n",
    "    \n",
    "    # Convert to lowercase\n",
    "    text = str(text).lower()\n",
    "    \n",
    "    # Remove newlines and extra whitespace\n",
    "    text = re.sub(r'\\n', ' ', text)\n",
    "    text = re.sub(r'\\s+', ' ', text)\n",
    "    \n",
    "    # Remove special characters, keep only letters and spaces\n",
    "    text = re.sub(r'[^a-zA-Z\\s]', '', text)\n",
    "    \n",
    "    # Remove extra whitespace and strip\n",
    "    text = re.sub(r'\\s+', ' ', text).strip()\n",
    "    \n",
    "    return text\n",
    "\n",
    "def preprocess_text(df):\n",
    "    df_processed = df.copy()\n",
    "\n",
    "    # Apply simple preprocessing\n",
    "    print(\"Applying basic text cleaning...\")\n",
    "    df_processed['comment_text_cleaned'] = df_processed['comment_text'].apply(refine_text)\n",
    "\n",
    "    # Remove empty comments after preprocessing\n",
    "    empty_mask = df_processed['comment_text_cleaned'].str.len() == 0\n",
    "    print(f\"Empty comments after preprocessing: {empty_mask.sum()}\")\n",
    "    return df_processed\n",
    "\n",
    "\n",
    "\n",
    "# Apply simple preprocessing\n",
    "print(\"Starting simple text preprocessing...\")\n",
    "\n",
    "train_processed = preprocess_text(train_df)\n",
    "\n",
    "print(f\"Final dataset shape: {train_processed.shape}\")\n",
    "\n",
    "# Show some examples\n",
    "print(\"\\nPreprocessing Examples:\")\n",
    "print(\"=\"*80)\n",
    "for i in range(2):\n",
    "    original = train_processed.iloc[i]['comment_text'][:150]\n",
    "    cleaned = train_processed.iloc[i]['comment_text_cleaned'][:150]\n",
    "    \n",
    "    print(f\"Example {i+1}:\")\n",
    "    print(f\"Original:  {original}\")\n",
    "    print(f\"Cleaned:   {cleaned}\")\n",
    "    print(\"-\"*80)\n"
   ]
  },
  {
   "cell_type": "markdown",
   "id": "de894193",
   "metadata": {},
   "source": [
    "## 3. Feature Extraction\n",
    "\n",
    "Using TfidfVectorizer to convert text into numerical features:"
   ]
  },
  {
   "cell_type": "code",
   "execution_count": 45,
   "id": "9913a787",
   "metadata": {},
   "outputs": [
    {
     "name": "stdout",
     "output_type": "stream",
     "text": [
      "Feature extraction...\n",
      "Text data shape: (159571,)\n",
      "Label matrix shape: (159571, 6)\n",
      "Training set: (127656, 8000)\n",
      "Validation set: (31915, 8000)\n",
      "\n",
      "Label distribution in training set:\n",
      "toxic          : 12235 ( 9.58%)\n",
      "severe_toxic   :  1284 ( 1.01%)\n",
      "obscene        :  6739 ( 5.28%)\n",
      "threat         :   381 ( 0.30%)\n",
      "insult         :  6287 ( 4.92%)\n",
      "identity_hate  :  1116 ( 0.87%)\n"
     ]
    }
   ],
   "source": [
    "# Feature extraction using TF-IDF Vectorizer\n",
    "print(\"Feature extraction...\")\n",
    "\n",
    "# Prepare features and labels\n",
    "X = train_processed['comment_text_cleaned']\n",
    "y = train_processed[toxic_labels]\n",
    "\n",
    "print(f\"Text data shape: {X.shape}\")\n",
    "print(f\"Label matrix shape: {y.shape}\")\n",
    "\n",
    "# TF-IDF Vectorizer\n",
    "vectorizer = TfidfVectorizer(\n",
    "    max_features=8000, \n",
    "    min_df=3,\n",
    "    max_df=0.85,\n",
    "    lowercase=True,\n",
    "    stop_words='english',\n",
    "    ngram_range=(1, 2),\n",
    "    sublinear_tf=True \n",
    ")\n",
    "\n",
    "# Fit transform the text data\n",
    "X_vectorized = vectorizer.fit_transform(X)  # sparse\n",
    "X_dense = X_vectorized.toarray()\n",
    "\n",
    "# Train-validation split\n",
    "X_train, X_val, y_train, y_val = train_test_split(\n",
    "    X_dense, y, \n",
    "    test_size=0.2, \n",
    "    random_state=42,\n",
    "    stratify=y['toxic']  # Stratify by most common label\n",
    ")\n",
    "\n",
    "print(f\"Training set: {X_train.shape}\")\n",
    "print(f\"Validation set: {X_val.shape}\")\n",
    "\n",
    "# label distribution\n",
    "print(f\"\\nLabel distribution in training set:\")\n",
    "for label in toxic_labels:\n",
    "    count = y_train[label].sum()\n",
    "    pct = (count / len(y_train)) * 100\n",
    "    print(f\"{label:15}: {count:5} ({pct:5.2f}%)\")\n"
   ]
  },
  {
   "cell_type": "markdown",
   "id": "cb06ed87",
   "metadata": {},
   "source": [
    "## 4. Feature Scaling\n",
    "\n",
    "TF-IDF values are already somewhat normalized, but standardization can still help the neural network learn better patterns and converge faster."
   ]
  },
  {
   "cell_type": "code",
   "execution_count": 46,
   "id": "f6c90ddb",
   "metadata": {},
   "outputs": [
    {
     "name": "stdout",
     "output_type": "stream",
     "text": [
      "Feature scaling...\n",
      "Scaled training set shape: (127656, 8000)\n",
      "Scaled validation set shape: (31915, 8000)\n",
      "\n",
      "Final data shapes for modeling:\n",
      "X_train_scaled: (127656, 8000)\n",
      "X_val_scaled: (31915, 8000)\n",
      "y_train: (127656, 6)\n",
      "y_val: (31915, 6)\n"
     ]
    }
   ],
   "source": [
    "# Feature scaling\n",
    "print(\"Feature scaling...\")\n",
    "\n",
    "scaler = StandardScaler()\n",
    "\n",
    "X_train_scaled = scaler.fit_transform(X_train)\n",
    "X_val_scaled = scaler.transform(X_val)\n",
    "\n",
    "print(f\"Scaled training set shape: {X_train_scaled.shape}\")\n",
    "print(f\"Scaled validation set shape: {X_val_scaled.shape}\")\n",
    "\n",
    "# Convert labels to numpy arrays for neural network\n",
    "y_train_np = y_train.values\n",
    "y_val_np = y_val.values\n",
    "\n",
    "print(f\"\\nFinal data shapes for modeling:\")\n",
    "print(f\"X_train_scaled: {X_train_scaled.shape}\")\n",
    "print(f\"X_val_scaled: {X_val_scaled.shape}\")\n",
    "print(f\"y_train: {y_train_np.shape}\")\n",
    "print(f\"y_val: {y_val_np.shape}\")"
   ]
  },
  {
   "cell_type": "markdown",
   "id": "38e7d808",
   "metadata": {},
   "source": [
    "## 5. Simple Neural Network Model\n",
    "\n",
    "We'll build a basic neural network with:\n",
    "- Simple dense layers\n",
    "- Basic dropout for regularization\n",
    "- Sigmoid output for multi-label classification"
   ]
  },
  {
   "cell_type": "code",
   "execution_count": 47,
   "id": "e9a1d000",
   "metadata": {},
   "outputs": [
    {
     "name": "stdout",
     "output_type": "stream",
     "text": [
      "Input features: 8000\n",
      "Classes: ['toxic', 'severe_toxic', 'obscene', 'threat', 'insult', 'identity_hate']\n",
      "\n",
      "Model Architecture:\n"
     ]
    },
    {
     "name": "stderr",
     "output_type": "stream",
     "text": [
      "/Users/tomgeorg/Documents/toxic-comment-classifier/.venv/lib/python3.9/site-packages/keras/src/layers/core/dense.py:93: UserWarning: Do not pass an `input_shape`/`input_dim` argument to a layer. When using Sequential models, prefer using an `Input(shape)` object as the first layer in the model instead.\n",
      "  super().__init__(activity_regularizer=activity_regularizer, **kwargs)\n"
     ]
    },
    {
     "data": {
      "text/html": [
       "<pre style=\"white-space:pre;overflow-x:auto;line-height:normal;font-family:Menlo,'DejaVu Sans Mono',consolas,'Courier New',monospace\"><span style=\"font-weight: bold\">Model: \"sequential_4\"</span>\n",
       "</pre>\n"
      ],
      "text/plain": [
       "\u001b[1mModel: \"sequential_4\"\u001b[0m\n"
      ]
     },
     "metadata": {},
     "output_type": "display_data"
    },
    {
     "data": {
      "text/html": [
       "<pre style=\"white-space:pre;overflow-x:auto;line-height:normal;font-family:Menlo,'DejaVu Sans Mono',consolas,'Courier New',monospace\">┏━━━━━━━━━━━━━━━━━━━━━━━━━━━━━━━━━┳━━━━━━━━━━━━━━━━━━━━━━━━┳━━━━━━━━━━━━━━━┓\n",
       "┃<span style=\"font-weight: bold\"> Layer (type)                    </span>┃<span style=\"font-weight: bold\"> Output Shape           </span>┃<span style=\"font-weight: bold\">       Param # </span>┃\n",
       "┡━━━━━━━━━━━━━━━━━━━━━━━━━━━━━━━━━╇━━━━━━━━━━━━━━━━━━━━━━━━╇━━━━━━━━━━━━━━━┩\n",
       "│ dense_12 (<span style=\"color: #0087ff; text-decoration-color: #0087ff\">Dense</span>)                │ (<span style=\"color: #00d7ff; text-decoration-color: #00d7ff\">None</span>, <span style=\"color: #00af00; text-decoration-color: #00af00\">64</span>)             │       <span style=\"color: #00af00; text-decoration-color: #00af00\">512,064</span> │\n",
       "├─────────────────────────────────┼────────────────────────┼───────────────┤\n",
       "│ dropout_8 (<span style=\"color: #0087ff; text-decoration-color: #0087ff\">Dropout</span>)             │ (<span style=\"color: #00d7ff; text-decoration-color: #00d7ff\">None</span>, <span style=\"color: #00af00; text-decoration-color: #00af00\">64</span>)             │             <span style=\"color: #00af00; text-decoration-color: #00af00\">0</span> │\n",
       "├─────────────────────────────────┼────────────────────────┼───────────────┤\n",
       "│ dense_13 (<span style=\"color: #0087ff; text-decoration-color: #0087ff\">Dense</span>)                │ (<span style=\"color: #00d7ff; text-decoration-color: #00d7ff\">None</span>, <span style=\"color: #00af00; text-decoration-color: #00af00\">32</span>)             │         <span style=\"color: #00af00; text-decoration-color: #00af00\">2,080</span> │\n",
       "├─────────────────────────────────┼────────────────────────┼───────────────┤\n",
       "│ dropout_9 (<span style=\"color: #0087ff; text-decoration-color: #0087ff\">Dropout</span>)             │ (<span style=\"color: #00d7ff; text-decoration-color: #00d7ff\">None</span>, <span style=\"color: #00af00; text-decoration-color: #00af00\">32</span>)             │             <span style=\"color: #00af00; text-decoration-color: #00af00\">0</span> │\n",
       "├─────────────────────────────────┼────────────────────────┼───────────────┤\n",
       "│ dense_14 (<span style=\"color: #0087ff; text-decoration-color: #0087ff\">Dense</span>)                │ (<span style=\"color: #00d7ff; text-decoration-color: #00d7ff\">None</span>, <span style=\"color: #00af00; text-decoration-color: #00af00\">6</span>)              │           <span style=\"color: #00af00; text-decoration-color: #00af00\">198</span> │\n",
       "└─────────────────────────────────┴────────────────────────┴───────────────┘\n",
       "</pre>\n"
      ],
      "text/plain": [
       "┏━━━━━━━━━━━━━━━━━━━━━━━━━━━━━━━━━┳━━━━━━━━━━━━━━━━━━━━━━━━┳━━━━━━━━━━━━━━━┓\n",
       "┃\u001b[1m \u001b[0m\u001b[1mLayer (type)                   \u001b[0m\u001b[1m \u001b[0m┃\u001b[1m \u001b[0m\u001b[1mOutput Shape          \u001b[0m\u001b[1m \u001b[0m┃\u001b[1m \u001b[0m\u001b[1m      Param #\u001b[0m\u001b[1m \u001b[0m┃\n",
       "┡━━━━━━━━━━━━━━━━━━━━━━━━━━━━━━━━━╇━━━━━━━━━━━━━━━━━━━━━━━━╇━━━━━━━━━━━━━━━┩\n",
       "│ dense_12 (\u001b[38;5;33mDense\u001b[0m)                │ (\u001b[38;5;45mNone\u001b[0m, \u001b[38;5;34m64\u001b[0m)             │       \u001b[38;5;34m512,064\u001b[0m │\n",
       "├─────────────────────────────────┼────────────────────────┼───────────────┤\n",
       "│ dropout_8 (\u001b[38;5;33mDropout\u001b[0m)             │ (\u001b[38;5;45mNone\u001b[0m, \u001b[38;5;34m64\u001b[0m)             │             \u001b[38;5;34m0\u001b[0m │\n",
       "├─────────────────────────────────┼────────────────────────┼───────────────┤\n",
       "│ dense_13 (\u001b[38;5;33mDense\u001b[0m)                │ (\u001b[38;5;45mNone\u001b[0m, \u001b[38;5;34m32\u001b[0m)             │         \u001b[38;5;34m2,080\u001b[0m │\n",
       "├─────────────────────────────────┼────────────────────────┼───────────────┤\n",
       "│ dropout_9 (\u001b[38;5;33mDropout\u001b[0m)             │ (\u001b[38;5;45mNone\u001b[0m, \u001b[38;5;34m32\u001b[0m)             │             \u001b[38;5;34m0\u001b[0m │\n",
       "├─────────────────────────────────┼────────────────────────┼───────────────┤\n",
       "│ dense_14 (\u001b[38;5;33mDense\u001b[0m)                │ (\u001b[38;5;45mNone\u001b[0m, \u001b[38;5;34m6\u001b[0m)              │           \u001b[38;5;34m198\u001b[0m │\n",
       "└─────────────────────────────────┴────────────────────────┴───────────────┘\n"
      ]
     },
     "metadata": {},
     "output_type": "display_data"
    },
    {
     "data": {
      "text/html": [
       "<pre style=\"white-space:pre;overflow-x:auto;line-height:normal;font-family:Menlo,'DejaVu Sans Mono',consolas,'Courier New',monospace\"><span style=\"font-weight: bold\"> Total params: </span><span style=\"color: #00af00; text-decoration-color: #00af00\">514,342</span> (1.96 MB)\n",
       "</pre>\n"
      ],
      "text/plain": [
       "\u001b[1m Total params: \u001b[0m\u001b[38;5;34m514,342\u001b[0m (1.96 MB)\n"
      ]
     },
     "metadata": {},
     "output_type": "display_data"
    },
    {
     "data": {
      "text/html": [
       "<pre style=\"white-space:pre;overflow-x:auto;line-height:normal;font-family:Menlo,'DejaVu Sans Mono',consolas,'Courier New',monospace\"><span style=\"font-weight: bold\"> Trainable params: </span><span style=\"color: #00af00; text-decoration-color: #00af00\">514,342</span> (1.96 MB)\n",
       "</pre>\n"
      ],
      "text/plain": [
       "\u001b[1m Trainable params: \u001b[0m\u001b[38;5;34m514,342\u001b[0m (1.96 MB)\n"
      ]
     },
     "metadata": {},
     "output_type": "display_data"
    },
    {
     "data": {
      "text/html": [
       "<pre style=\"white-space:pre;overflow-x:auto;line-height:normal;font-family:Menlo,'DejaVu Sans Mono',consolas,'Courier New',monospace\"><span style=\"font-weight: bold\"> Non-trainable params: </span><span style=\"color: #00af00; text-decoration-color: #00af00\">0</span> (0.00 B)\n",
       "</pre>\n"
      ],
      "text/plain": [
       "\u001b[1m Non-trainable params: \u001b[0m\u001b[38;5;34m0\u001b[0m (0.00 B)\n"
      ]
     },
     "metadata": {},
     "output_type": "display_data"
    }
   ],
   "source": [
    "\n",
    "# Model setup\n",
    "input_dim = X_train_scaled.shape[1]\n",
    "num_classes = len(toxic_labels)\n",
    "\n",
    "print(f\"Input features: {input_dim}\")\n",
    "print(f\"Classes: {toxic_labels}\")\n",
    "\n",
    "# Create and compile model\n",
    "model = Sequential([\n",
    "        Dense(64, input_dim=input_dim, activation='relu'),\n",
    "        Dropout(0.5),\n",
    "        \n",
    "        Dense(32, activation='relu'),\n",
    "        Dropout(0.6),\n",
    "        \n",
    "        Dense(num_classes, activation='sigmoid') #Independent Binary Classifications. Multiple labels can be positive simultaneously\n",
    "    ])\n",
    "\n",
    "model.compile(\n",
    "    optimizer=Adam(learning_rate=0.001),\n",
    "    loss='binary_crossentropy',\n",
    "    metrics=['accuracy']\n",
    ")\n",
    "\n",
    "print(\"\\nModel Architecture:\")\n",
    "model.summary()"
   ]
  },
  {
   "cell_type": "markdown",
   "id": "08ea9c42",
   "metadata": {},
   "source": [
    "## 6. Model Training\n",
    "\n",
    "Train the model with basic early stopping to prevent overfitting."
   ]
  },
  {
   "cell_type": "code",
   "execution_count": 48,
   "id": "c7a8da45",
   "metadata": {},
   "outputs": [
    {
     "name": "stdout",
     "output_type": "stream",
     "text": [
      "\n",
      "Training model...\n",
      "Epoch 1/20\n",
      "\u001b[1m3990/3990\u001b[0m \u001b[32m━━━━━━━━━━━━━━━━━━━━\u001b[0m\u001b[37m\u001b[0m \u001b[1m7s\u001b[0m 2ms/step - accuracy: 0.6386 - loss: 0.2550 - val_accuracy: 0.9949 - val_loss: 0.0728\n",
      "Epoch 2/20\n",
      "\u001b[1m3990/3990\u001b[0m \u001b[32m━━━━━━━━━━━━━━━━━━━━\u001b[0m\u001b[37m\u001b[0m \u001b[1m6s\u001b[0m 2ms/step - accuracy: 0.9899 - loss: 0.0799 - val_accuracy: 0.9949 - val_loss: 0.0657\n",
      "Epoch 3/20\n",
      "\u001b[1m3990/3990\u001b[0m \u001b[32m━━━━━━━━━━━━━━━━━━━━\u001b[0m\u001b[37m\u001b[0m \u001b[1m6s\u001b[0m 2ms/step - accuracy: 0.9922 - loss: 0.0681 - val_accuracy: 0.9949 - val_loss: 0.0654\n",
      "Epoch 4/20\n",
      "\u001b[1m3990/3990\u001b[0m \u001b[32m━━━━━━━━━━━━━━━━━━━━\u001b[0m\u001b[37m\u001b[0m \u001b[1m7s\u001b[0m 2ms/step - accuracy: 0.9895 - loss: 0.0616 - val_accuracy: 0.9801 - val_loss: 0.0644\n",
      "Epoch 5/20\n",
      "\u001b[1m3990/3990\u001b[0m \u001b[32m━━━━━━━━━━━━━━━━━━━━\u001b[0m\u001b[37m\u001b[0m \u001b[1m7s\u001b[0m 2ms/step - accuracy: 0.9840 - loss: 0.0586 - val_accuracy: 0.9949 - val_loss: 0.0660\n",
      "Epoch 6/20\n",
      "\u001b[1m3990/3990\u001b[0m \u001b[32m━━━━━━━━━━━━━━━━━━━━\u001b[0m\u001b[37m\u001b[0m \u001b[1m6s\u001b[0m 2ms/step - accuracy: 0.9871 - loss: 0.0572 - val_accuracy: 0.9949 - val_loss: 0.0654\n",
      "Epoch 7/20\n",
      "\u001b[1m3990/3990\u001b[0m \u001b[32m━━━━━━━━━━━━━━━━━━━━\u001b[0m\u001b[37m\u001b[0m \u001b[1m7s\u001b[0m 2ms/step - accuracy: 0.9827 - loss: 0.0561 - val_accuracy: 0.9949 - val_loss: 0.0670\n",
      "Epoch 7: early stopping\n",
      "Restoring model weights from the end of the best epoch: 4.\n",
      "Training completed!\n",
      "\n",
      "Training Summary:\n",
      "Epochs trained: 7\n",
      "Final training accuracy: 0.9851\n",
      "Final validation accuracy: 0.9949\n"
     ]
    }
   ],
   "source": [
    "# Basic early stopping\n",
    "early_stopping = EarlyStopping(\n",
    "    monitor='val_loss',\n",
    "    patience=3,\n",
    "    restore_best_weights=True,\n",
    "    verbose=1\n",
    ")\n",
    "\n",
    "# Train the model\n",
    "print(\"\\nTraining model...\")\n",
    "\n",
    "history = model.fit(\n",
    "    X_train_scaled, y_train_np,\n",
    "    batch_size=batch_size,\n",
    "    epochs=epochs,\n",
    "    validation_data=(X_val_scaled, y_val_np),\n",
    "    callbacks=[early_stopping],\n",
    "    verbose=1\n",
    ")\n",
    "\n",
    "print(\"Training completed!\")\n",
    "\n",
    "# Get training results\n",
    "train_loss = history.history['loss']\n",
    "val_loss = history.history['val_loss']\n",
    "train_acc = history.history['accuracy']\n",
    "val_acc = history.history['val_accuracy']\n",
    "\n",
    "epochs_trained = len(train_loss)\n",
    "\n",
    "print(f\"\\nTraining Summary:\")\n",
    "print(f\"Epochs trained: {epochs_trained}\")\n",
    "print(f\"Final training accuracy: {train_acc[-1]:.4f}\")\n",
    "print(f\"Final validation accuracy: {val_acc[-1]:.4f}\")"
   ]
  },
  {
   "cell_type": "code",
   "execution_count": 49,
   "id": "24450d0c",
   "metadata": {},
   "outputs": [
    {
     "name": "stdout",
     "output_type": "stream",
     "text": [
      "Creating training plots...\n"
     ]
    },
    {
     "data": {
      "image/png": "[encoded data removed]",
      "text/plain": [
       "<Figure size 1200x400 with 2 Axes>"
      ]
     },
     "metadata": {},
     "output_type": "display_data"
    }
   ],
   "source": [
    "# Simple training visualization\n",
    "print(\"Creating training plots...\")\n",
    "\n",
    "plt.figure(figsize=(12, 4))\n",
    "\n",
    "# Accuracy plot\n",
    "plt.subplot(1, 2, 1)\n",
    "plt.plot(train_acc, 'b-', label='Training Accuracy', linewidth=2)\n",
    "plt.plot(val_acc, 'r-', label='Validation Accuracy', linewidth=2)\n",
    "plt.title('Training vs Validation Accuracy')\n",
    "plt.xlabel('Epoch')\n",
    "plt.ylabel('Accuracy')\n",
    "plt.legend()\n",
    "plt.grid(True, alpha=0.3)\n",
    "\n",
    "# Loss plot\n",
    "plt.subplot(1, 2, 2)\n",
    "plt.plot(train_loss, 'b-', label='Training Loss', linewidth=2)\n",
    "plt.plot(val_loss, 'r-', label='Validation Loss', linewidth=2)\n",
    "plt.title('Training vs Validation Loss')\n",
    "plt.xlabel('Epoch')\n",
    "plt.ylabel('Loss')\n",
    "plt.legend()\n",
    "plt.grid(True, alpha=0.3)\n",
    "\n",
    "plt.tight_layout()\n",
    "plt.show()\n"
   ]
  },
  {
   "cell_type": "markdown",
   "id": "20462711",
   "metadata": {},
   "source": [
    "## 7. Model Evaluation\n",
    "\n",
    "Basic evaluation with classification reports for each toxic label."
   ]
  },
  {
   "cell_type": "code",
   "execution_count": 50,
   "id": "0062f896",
   "metadata": {},
   "outputs": [
    {
     "name": "stdout",
     "output_type": "stream",
     "text": [
      "Model evaluation...\n",
      "\n",
      "Classification Results:\n",
      "============================================================\n",
      "Label           | Accuracy  | Precision  | Recall  | F1 \n",
      "toxic           | 0.951      | 0.929      | 0.531   | 0.675     \n",
      "severe_toxic    | 0.990      | 0.833      | 0.016   | 0.032     \n",
      "obscene         | 0.975      | 0.875      | 0.625   | 0.729     \n",
      "threat          | 0.997      | 0.000      | 0.000   | 0.000     \n",
      "insult          | 0.968      | 0.760      | 0.524   | 0.620     \n",
      "identity_hate   | 0.991      | 0.000      | 0.000   | 0.000     \n",
      "\n",
      "Overall Accuracy: 0.9788 (97.88%)\n",
      "\n",
      "Best performing: obscene (F1: 0.729)\n",
      "\n",
      "Worst performing: threat (F1: 0.000)\n"
     ]
    }
   ],
   "source": [
    "# Model evaluation\n",
    "print(\"Model evaluation...\")\n",
    "\n",
    "# Make predictions\n",
    "y_val_pred_proba = model.predict(X_val_scaled, verbose=0)\n",
    "y_val_pred = (y_val_pred_proba > 0.5).astype(int)\n",
    "\n",
    "print(\"\\nClassification Results:\")\n",
    "print(\"=\"*60)\n",
    "print(f\"{'Label':15} | {'Accuracy ':1} | {'Precision ':1} | {'Recall ':1} | {'F1 ':1}\")\n",
    "\n",
    "results = []\n",
    "for i, label in enumerate(toxic_labels):\n",
    "    y_true = y_val_np[:, i] \n",
    "    y_pred = y_val_pred[:, i]\n",
    "\n",
    "    # Calculate basic metrics\n",
    "    accuracy = accuracy_score(y_true, y_pred)\n",
    "    \n",
    "    # Count true positives, false positives, etc.\n",
    "    tp = np.sum((y_true == 1) & (y_pred == 1))\n",
    "    fp = np.sum((y_true == 0) & (y_pred == 1))\n",
    "    fn = np.sum((y_true == 1) & (y_pred == 0))\n",
    "    tn = np.sum((y_true == 0) & (y_pred == 0))\n",
    "    \n",
    "    # Calculate precision, recall, f1\n",
    "    precision = tp / (tp + fp) if (tp + fp) > 0 else 0\n",
    "    recall = tp / (tp + fn) if (tp + fn) > 0 else 0\n",
    "    f1 = 2 * (precision * recall) / (precision + recall) if (precision + recall) > 0 else 0\n",
    "    \n",
    "    support = np.sum(y_true)\n",
    "    \n",
    "    results.append({\n",
    "        'Label': label,\n",
    "        'Accuracy': accuracy,\n",
    "        'Precision': precision,\n",
    "        'Recall': recall,\n",
    "        'F1-Score': f1,\n",
    "        'Support': support\n",
    "    })\n",
    "\n",
    "    print(f\"{label:15} | {accuracy:.3f}{' ':4}  | {precision:.3f}{' ':4}  | {recall:.3f}{' ':}  | {f1:.3f}{' ':4} \")\n",
    "\n",
    "# Overall metrics \n",
    "overall_accuracy = np.mean(y_val_np == y_val_pred)\n",
    "print(f\"\\nOverall Accuracy: {overall_accuracy:.4f} ({overall_accuracy*100:.2f}%)\")\n",
    "\n",
    "# # Best and worst performing labels\n",
    "results_df = pd.DataFrame(results)\n",
    "best_f1 = results_df.loc[results_df['F1-Score'].idxmax()]\n",
    "worst_f1 = results_df.loc[results_df['F1-Score'].idxmin()]\n",
    "\n",
    "print(f\"\\nBest performing: {best_f1['Label']} (F1: {best_f1['F1-Score']:.3f})\")\n",
    "print(f\"\\nWorst performing: {worst_f1['Label']} (F1: {worst_f1['F1-Score']:.3f})\")"
   ]
  }
 ],
 "metadata": {
  "kernelspec": {
   "display_name": ".venv",
   "language": "python",
   "name": "python3"
  },
  "language_info": {
   "codemirror_mode": {
    "name": "ipython",
    "version": 3
   },
   "file_extension": ".py",
   "mimetype": "text/x-python",
   "name": "python",
   "nbconvert_exporter": "python",
   "pygments_lexer": "ipython3",
   "version": "3.9.6"
  }
 },
 "nbformat": 4,
 "nbformat_minor": 5
}
